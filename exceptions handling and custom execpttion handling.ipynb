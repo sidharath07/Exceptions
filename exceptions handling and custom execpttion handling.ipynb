{
 "cells": [
  {
   "cell_type": "code",
   "execution_count": 26,
   "id": "c5cd8302-570f-45fb-ad9f-4a176a6ac4a8",
   "metadata": {},
   "outputs": [],
   "source": [
    "# exceptions handling"
   ]
  },
  {
   "cell_type": "code",
   "execution_count": null,
   "id": "7bd38d0b-6c1a-4166-a90e-ce2ec9c6d49c",
   "metadata": {},
   "outputs": [],
   "source": [
    "# try , except, finally , and else bloaks"
   ]
  },
  {
   "cell_type": "code",
   "execution_count": 37,
   "id": "cd5fb7c1-2aa5-428c-bfc2-92113f47b028",
   "metadata": {},
   "outputs": [
    {
     "name": "stdout",
     "output_type": "stream",
     "text": [
      "this is my except block [Errno 2] No such file or directory: 'test.txt'\n"
     ]
    },
    {
     "data": {
      "text/plain": [
       "9"
      ]
     },
     "execution_count": 37,
     "metadata": {},
     "output_type": "execute_result"
    }
   ],
   "source": [
    "try :\n",
    "    f = open(\"test.txt\" , 'r')\n",
    "except Exception as e :\n",
    "    print(\"this is my except block\" , e )\n",
    "a = 4+5\n",
    "a    "
   ]
  },
  {
   "cell_type": "code",
   "execution_count": 39,
   "id": "037b5768-ca2a-4517-8b81-c21fa25bdcd6",
   "metadata": {},
   "outputs": [
    {
     "data": {
      "text/plain": [
       "9"
      ]
     },
     "execution_count": 39,
     "metadata": {},
     "output_type": "execute_result"
    }
   ],
   "source": [
    "try :\n",
    "    f = open(\"test.txt\" , 'w')\n",
    "    f.write(\"write into my file\")\n",
    "    f.close()\n",
    "except Exception as e :\n",
    "    print(\"this is my except block\" , e )\n",
    "a = 4+5\n",
    "a    "
   ]
  },
  {
   "cell_type": "code",
   "execution_count": 40,
   "id": "d4ad4f0d-7c1c-47e9-b928-ff27c0cbcd7c",
   "metadata": {},
   "outputs": [
    {
     "name": "stdout",
     "output_type": "stream",
     "text": [
      "this will be executed once your try will execute without eror\n"
     ]
    },
    {
     "data": {
      "text/plain": [
       "9"
      ]
     },
     "execution_count": 40,
     "metadata": {},
     "output_type": "execute_result"
    }
   ],
   "source": [
    "try :\n",
    "    f = open(\"test.txt\" , 'w')\n",
    "    f.write(\"write into my file\")\n",
    "except Exception as e :\n",
    "    print(\"this is my except block\" , e)\n",
    "else :\n",
    "    f.close()\n",
    "    print(\"this will be executed once your try will execute without eror\")\n",
    "a = 4+5\n",
    "a    "
   ]
  },
  {
   "cell_type": "code",
   "execution_count": 42,
   "id": "c88e9d34-1d16-49f6-917c-e2ad5971fe20",
   "metadata": {},
   "outputs": [
    {
     "name": "stdout",
     "output_type": "stream",
     "text": [
      "this is my except block [Errno 2] No such file or directory: 'test1.txt'\n"
     ]
    }
   ],
   "source": [
    "try :\n",
    "    f = open(\"test1.txt\" , 'r')\n",
    "    f.write(\"write into my file\")\n",
    "except Exception as e :\n",
    "    print(\"this is my except block\" , e)\n",
    "else :\n",
    "    f.close()\n",
    "    print(\"this will be executed once your try will execute without eror\")\n"
   ]
  },
  {
   "cell_type": "code",
   "execution_count": 43,
   "id": "0bea9dab-8c1a-4200-9844-2c6ff3d9932a",
   "metadata": {},
   "outputs": [
    {
     "name": "stdout",
     "output_type": "stream",
     "text": [
      "finally will execute itshelf in any sitution\n"
     ]
    },
    {
     "ename": "FileNotFoundError",
     "evalue": "[Errno 2] No such file or directory: 'test3.txt'",
     "output_type": "error",
     "traceback": [
      "\u001b[0;31m---------------------------------------------------------------------------\u001b[0m",
      "\u001b[0;31mFileNotFoundError\u001b[0m                         Traceback (most recent call last)",
      "Cell \u001b[0;32mIn[43], line 2\u001b[0m\n\u001b[1;32m      1\u001b[0m \u001b[38;5;28;01mtry\u001b[39;00m :\n\u001b[0;32m----> 2\u001b[0m     f \u001b[38;5;241m=\u001b[39m \u001b[38;5;28;43mopen\u001b[39;49m\u001b[43m(\u001b[49m\u001b[38;5;124;43m\"\u001b[39;49m\u001b[38;5;124;43mtest3.txt\u001b[39;49m\u001b[38;5;124;43m\"\u001b[39;49m\u001b[43m \u001b[49m\u001b[43m,\u001b[49m\u001b[43m \u001b[49m\u001b[38;5;124;43m'\u001b[39;49m\u001b[38;5;124;43mr\u001b[39;49m\u001b[38;5;124;43m'\u001b[39;49m\u001b[43m)\u001b[49m\n\u001b[1;32m      3\u001b[0m     f\u001b[38;5;241m.\u001b[39mwrite(\u001b[38;5;124m\"\u001b[39m\u001b[38;5;124mwrite somethings\u001b[39m\u001b[38;5;124m\"\u001b[39m)\n\u001b[1;32m      4\u001b[0m \u001b[38;5;28;01mfinally\u001b[39;00m :\n",
      "File \u001b[0;32m/opt/conda/lib/python3.10/site-packages/IPython/core/interactiveshell.py:282\u001b[0m, in \u001b[0;36m_modified_open\u001b[0;34m(file, *args, **kwargs)\u001b[0m\n\u001b[1;32m    275\u001b[0m \u001b[38;5;28;01mif\u001b[39;00m file \u001b[38;5;129;01min\u001b[39;00m {\u001b[38;5;241m0\u001b[39m, \u001b[38;5;241m1\u001b[39m, \u001b[38;5;241m2\u001b[39m}:\n\u001b[1;32m    276\u001b[0m     \u001b[38;5;28;01mraise\u001b[39;00m \u001b[38;5;167;01mValueError\u001b[39;00m(\n\u001b[1;32m    277\u001b[0m         \u001b[38;5;124mf\u001b[39m\u001b[38;5;124m\"\u001b[39m\u001b[38;5;124mIPython won\u001b[39m\u001b[38;5;124m'\u001b[39m\u001b[38;5;124mt let you open fd=\u001b[39m\u001b[38;5;132;01m{\u001b[39;00mfile\u001b[38;5;132;01m}\u001b[39;00m\u001b[38;5;124m by default \u001b[39m\u001b[38;5;124m\"\u001b[39m\n\u001b[1;32m    278\u001b[0m         \u001b[38;5;124m\"\u001b[39m\u001b[38;5;124mas it is likely to crash IPython. If you know what you are doing, \u001b[39m\u001b[38;5;124m\"\u001b[39m\n\u001b[1;32m    279\u001b[0m         \u001b[38;5;124m\"\u001b[39m\u001b[38;5;124myou can use builtins\u001b[39m\u001b[38;5;124m'\u001b[39m\u001b[38;5;124m open.\u001b[39m\u001b[38;5;124m\"\u001b[39m\n\u001b[1;32m    280\u001b[0m     )\n\u001b[0;32m--> 282\u001b[0m \u001b[38;5;28;01mreturn\u001b[39;00m \u001b[43mio_open\u001b[49m\u001b[43m(\u001b[49m\u001b[43mfile\u001b[49m\u001b[43m,\u001b[49m\u001b[43m \u001b[49m\u001b[38;5;241;43m*\u001b[39;49m\u001b[43margs\u001b[49m\u001b[43m,\u001b[49m\u001b[43m \u001b[49m\u001b[38;5;241;43m*\u001b[39;49m\u001b[38;5;241;43m*\u001b[39;49m\u001b[43mkwargs\u001b[49m\u001b[43m)\u001b[49m\n",
      "\u001b[0;31mFileNotFoundError\u001b[0m: [Errno 2] No such file or directory: 'test3.txt'"
     ]
    }
   ],
   "source": [
    "try :\n",
    "    f = open(\"test3.txt\" , 'r')\n",
    "    f.write(\"write somethings\")\n",
    "finally :\n",
    "    print(\"finally will execute itshelf in any sitution\")\n",
    "    "
   ]
  },
  {
   "cell_type": "code",
   "execution_count": 44,
   "id": "2b37b773-fd4c-4ffe-a698-b17412e0042a",
   "metadata": {},
   "outputs": [],
   "source": [
    "# custom execptions handling"
   ]
  },
  {
   "cell_type": "code",
   "execution_count": 46,
   "id": "930b5382-821b-4ba6-85d5-336372706513",
   "metadata": {},
   "outputs": [
    {
     "name": "stdin",
     "output_type": "stream",
     "text": [
      "enter your age  23\n"
     ]
    }
   ],
   "source": [
    "age = int(input(\"enter your age \"))"
   ]
  },
  {
   "cell_type": "code",
   "execution_count": 40,
   "id": "65167ec6-63c5-4257-b6e8-8c0c6f3146a1",
   "metadata": {},
   "outputs": [],
   "source": [
    "class validage(Exception):\n",
    "    \n",
    "    def __init__(self, msg):\n",
    "        self.msg = msg"
   ]
  },
  {
   "cell_type": "code",
   "execution_count": 41,
   "id": "1d84df4f-badb-4e66-8e86-46ecb091003a",
   "metadata": {},
   "outputs": [],
   "source": [
    "def validage(age):\n",
    "    if age < 0 :\n",
    "        raise validage(\"enter age is negative\")\n",
    "    elif age > 200 :\n",
    "        raise validage(\"enter age is very high\")\n",
    "    else :\n",
    "        print(\"age is valid\")"
   ]
  },
  {
   "cell_type": "code",
   "execution_count": 42,
   "id": "e7a32d50-b782-411a-9058-5005fcf955c0",
   "metadata": {},
   "outputs": [
    {
     "name": "stdin",
     "output_type": "stream",
     "text": [
      "enter your age  58\n"
     ]
    },
    {
     "name": "stdout",
     "output_type": "stream",
     "text": [
      "age is valid\n"
     ]
    }
   ],
   "source": [
    "try :\n",
    "    age = int(input(\"enter your age \"))\n",
    "    validage(age)\n",
    "except validage as e :\n",
    "    print(e)"
   ]
  },
  {
   "cell_type": "code",
   "execution_count": 1,
   "id": "a52b9a2c-3b84-48bc-8fad-4b345c6be82d",
   "metadata": {},
   "outputs": [],
   "source": [
    "# 1. Exception in python :-\n",
    "# # Execption is nothing but runtime error and its occurs due to incorrect implemention of logic .\n",
    "\n",
    "# # differance between execption and syntax error :-\n",
    "#   exception :-\n",
    "#    1. An Exception is coused by our program.\n",
    "#     2.Exception are recover by try blocks\n",
    "    \n",
    "    \n",
    "#     errors :- \n",
    "#     1.An error are not cousted by our program.\n",
    "#     2.error are not recoverable"
   ]
  },
  {
   "cell_type": "code",
   "execution_count": 4,
   "id": "5dd42e61-9b2d-4f86-89a3-e1e0a7d53bab",
   "metadata": {},
   "outputs": [
    {
     "name": "stdout",
     "output_type": "stream",
     "text": [
      "this is my first try function [Errno 2] No such file or directory: 'test1.txt'\n"
     ]
    },
    {
     "data": {
      "text/plain": [
       "54"
      ]
     },
     "execution_count": 4,
     "metadata": {},
     "output_type": "execute_result"
    }
   ],
   "source": [
    "# try example\n",
    "try :\n",
    "    f = open(\"test1.txt\" , 'r')\n",
    "except Exception as e :\n",
    "    print(\"this is my first try function\" , e )\n",
    "a = 4+50\n",
    "a    "
   ]
  },
  {
   "cell_type": "code",
   "execution_count": 7,
   "id": "b5932309-d391-4949-9fa1-f0829b7099d5",
   "metadata": {},
   "outputs": [
    {
     "name": "stdout",
     "output_type": "stream",
     "text": [
      "finally will execute itshelf in any sitution\n"
     ]
    },
    {
     "ename": "FileNotFoundError",
     "evalue": "[Errno 2] No such file or directory: 'test3.txt'",
     "output_type": "error",
     "traceback": [
      "\u001b[0;31m---------------------------------------------------------------------------\u001b[0m",
      "\u001b[0;31mFileNotFoundError\u001b[0m                         Traceback (most recent call last)",
      "Cell \u001b[0;32mIn[7], line 3\u001b[0m\n\u001b[1;32m      1\u001b[0m \u001b[38;5;66;03m# finally example \u001b[39;00m\n\u001b[1;32m      2\u001b[0m \u001b[38;5;28;01mtry\u001b[39;00m :\n\u001b[0;32m----> 3\u001b[0m     f \u001b[38;5;241m=\u001b[39m \u001b[38;5;28;43mopen\u001b[39;49m\u001b[43m(\u001b[49m\u001b[38;5;124;43m\"\u001b[39;49m\u001b[38;5;124;43mtest3.txt\u001b[39;49m\u001b[38;5;124;43m\"\u001b[39;49m\u001b[43m \u001b[49m\u001b[43m,\u001b[49m\u001b[43m \u001b[49m\u001b[38;5;124;43m'\u001b[39;49m\u001b[38;5;124;43mr\u001b[39;49m\u001b[38;5;124;43m'\u001b[39;49m\u001b[43m)\u001b[49m\n\u001b[1;32m      4\u001b[0m     f\u001b[38;5;241m.\u001b[39mwrite(\u001b[38;5;124m\"\u001b[39m\u001b[38;5;124mwrite somethings\u001b[39m\u001b[38;5;124m\"\u001b[39m)\n\u001b[1;32m      5\u001b[0m \u001b[38;5;28;01mfinally\u001b[39;00m :\n",
      "File \u001b[0;32m/opt/conda/lib/python3.10/site-packages/IPython/core/interactiveshell.py:282\u001b[0m, in \u001b[0;36m_modified_open\u001b[0;34m(file, *args, **kwargs)\u001b[0m\n\u001b[1;32m    275\u001b[0m \u001b[38;5;28;01mif\u001b[39;00m file \u001b[38;5;129;01min\u001b[39;00m {\u001b[38;5;241m0\u001b[39m, \u001b[38;5;241m1\u001b[39m, \u001b[38;5;241m2\u001b[39m}:\n\u001b[1;32m    276\u001b[0m     \u001b[38;5;28;01mraise\u001b[39;00m \u001b[38;5;167;01mValueError\u001b[39;00m(\n\u001b[1;32m    277\u001b[0m         \u001b[38;5;124mf\u001b[39m\u001b[38;5;124m\"\u001b[39m\u001b[38;5;124mIPython won\u001b[39m\u001b[38;5;124m'\u001b[39m\u001b[38;5;124mt let you open fd=\u001b[39m\u001b[38;5;132;01m{\u001b[39;00mfile\u001b[38;5;132;01m}\u001b[39;00m\u001b[38;5;124m by default \u001b[39m\u001b[38;5;124m\"\u001b[39m\n\u001b[1;32m    278\u001b[0m         \u001b[38;5;124m\"\u001b[39m\u001b[38;5;124mas it is likely to crash IPython. If you know what you are doing, \u001b[39m\u001b[38;5;124m\"\u001b[39m\n\u001b[1;32m    279\u001b[0m         \u001b[38;5;124m\"\u001b[39m\u001b[38;5;124myou can use builtins\u001b[39m\u001b[38;5;124m'\u001b[39m\u001b[38;5;124m open.\u001b[39m\u001b[38;5;124m\"\u001b[39m\n\u001b[1;32m    280\u001b[0m     )\n\u001b[0;32m--> 282\u001b[0m \u001b[38;5;28;01mreturn\u001b[39;00m \u001b[43mio_open\u001b[49m\u001b[43m(\u001b[49m\u001b[43mfile\u001b[49m\u001b[43m,\u001b[49m\u001b[43m \u001b[49m\u001b[38;5;241;43m*\u001b[39;49m\u001b[43margs\u001b[49m\u001b[43m,\u001b[49m\u001b[43m \u001b[49m\u001b[38;5;241;43m*\u001b[39;49m\u001b[38;5;241;43m*\u001b[39;49m\u001b[43mkwargs\u001b[49m\u001b[43m)\u001b[49m\n",
      "\u001b[0;31mFileNotFoundError\u001b[0m: [Errno 2] No such file or directory: 'test3.txt'"
     ]
    }
   ],
   "source": [
    "# finally example \n",
    "try :\n",
    "    f = open(\"test3.txt\" , 'r')\n",
    "    f.write(\"write somethings\")\n",
    "finally :\n",
    "    print(\"finally will execute itshelf in any sitution\")\n",
    "    "
   ]
  },
  {
   "cell_type": "code",
   "execution_count": 10,
   "id": "f6f4896b-f6b3-4270-9250-9e234cdf4039",
   "metadata": {},
   "outputs": [],
   "source": [
    "# raise and else example:-\n"
   ]
  },
  {
   "cell_type": "code",
   "execution_count": 11,
   "id": "3ceab42f-feaf-402c-a014-eda462b5eada",
   "metadata": {},
   "outputs": [
    {
     "name": "stdin",
     "output_type": "stream",
     "text": [
      "enter your amount 500\n"
     ]
    }
   ],
   "source": [
    "amount = int(input(\"enter your amount\"))"
   ]
  },
  {
   "cell_type": "code",
   "execution_count": 47,
   "id": "38d2cc50-49dd-4376-aa38-ed827b7813eb",
   "metadata": {},
   "outputs": [],
   "source": [
    "class amount(Exception):\n",
    "     def __init__(self, moeny):\n",
    "            self.money \n",
    "            "
   ]
  },
  {
   "cell_type": "code",
   "execution_count": 48,
   "id": "0ac45caa-fb48-4231-a15d-e8b0260f06e0",
   "metadata": {},
   "outputs": [],
   "source": [
    "def amount(money):\n",
    "    if money > 10000 :\n",
    "        raise amount(\"enter amount is out of range\")\n",
    "    elif money  < 7000 :\n",
    "        raise amount(\"enter amount is use full\")\n",
    "    else :\n",
    "        print(\"this amount is our range\")"
   ]
  },
  {
   "cell_type": "code",
   "execution_count": null,
   "id": "b6fffe8b-4ab1-41b3-a0d2-0811fce1fceb",
   "metadata": {},
   "outputs": [],
   "source": [
    "try : \n",
    "    money = int(input(\"enter your amount\"))\n",
    "    amount(money)\n",
    "except amount as e :\n",
    "    print(e)"
   ]
  },
  {
   "cell_type": "code",
   "execution_count": 1,
   "id": "1164a265-3b2d-45b9-bd71-80d380f5dab9",
   "metadata": {},
   "outputs": [],
   "source": [
    " # custom Exception :-\n",
    "    \n",
    "     # in python that function we can define costom exception by creating a new class is colled custom expenction"
   ]
  },
  {
   "cell_type": "code",
   "execution_count": 2,
   "id": "a26d12e2-a329-4101-86ed-e93688adfc1d",
   "metadata": {},
   "outputs": [],
   "source": [
    "# need of custom function:-\n",
    "# becouse we create new class of function whuch is not given in python lab so we use customfunction"
   ]
  },
  {
   "cell_type": "code",
   "execution_count": 10,
   "id": "c02e613d-e3fe-48d4-a913-fa4543088a5c",
   "metadata": {},
   "outputs": [],
   "source": [
    "# question no 6:- creat a custom exception class"
   ]
  },
  {
   "cell_type": "code",
   "execution_count": 4,
   "id": "ab14570d-421e-49af-b469-1c9e35c39038",
   "metadata": {},
   "outputs": [
    {
     "name": "stdin",
     "output_type": "stream",
     "text": [
      "enter your age  45\n"
     ]
    }
   ],
   "source": [
    "age = int(input(\"enter your age \"))"
   ]
  },
  {
   "cell_type": "code",
   "execution_count": 5,
   "id": "f10d5b5e-ef14-420d-826f-8e926c8ab900",
   "metadata": {},
   "outputs": [
    {
     "name": "stdin",
     "output_type": "stream",
     "text": [
      "enter your age  -45\n"
     ]
    }
   ],
   "source": [
    "age = int(input(\"enter your age \"))"
   ]
  },
  {
   "cell_type": "code",
   "execution_count": 6,
   "id": "5b4b12a3-666d-4cbf-a8c9-23abcf3157a9",
   "metadata": {},
   "outputs": [],
   "source": [
    "# so we create custom class"
   ]
  },
  {
   "cell_type": "code",
   "execution_count": 7,
   "id": "25e87d20-3986-4951-b9f7-1b9bc5e225a8",
   "metadata": {},
   "outputs": [],
   "source": [
    "class agelimit(Exception):\n",
    "    \n",
    "    def __init__(self, msg):\n",
    "        self.msg = msg"
   ]
  },
  {
   "cell_type": "code",
   "execution_count": 8,
   "id": "d13d37db-4473-4cae-b334-49411a27c18d",
   "metadata": {},
   "outputs": [],
   "source": [
    "def agelimit(age):\n",
    "    if age < 0 :\n",
    "        raise agelimit(\"enter your age is neg\")\n",
    "    elif age > 100 :\n",
    "        raise agelimit(\"enter your age is very old and that's very good\")\n",
    "    else :\n",
    "        print(\"this age is avrage\")"
   ]
  },
  {
   "cell_type": "code",
   "execution_count": 9,
   "id": "808c2c02-a144-4400-aa64-0e769534f760",
   "metadata": {},
   "outputs": [
    {
     "name": "stdin",
     "output_type": "stream",
     "text": [
      "enter your age  70\n"
     ]
    },
    {
     "name": "stdout",
     "output_type": "stream",
     "text": [
      "this age is avrage\n"
     ]
    }
   ],
   "source": [
    "try :\n",
    "    age = int(input(\"enter your age \"))\n",
    "    agelimit(age)\n",
    "except agelimit as e :\n",
    "    print(e)"
   ]
  },
  {
   "cell_type": "code",
   "execution_count": null,
   "id": "1ed48f5a-ecd6-408c-ac8b-4f7c27f4ea65",
   "metadata": {},
   "outputs": [],
   "source": []
  }
 ],
 "metadata": {
  "kernelspec": {
   "display_name": "Python 3 (ipykernel)",
   "language": "python",
   "name": "python3"
  },
  "language_info": {
   "codemirror_mode": {
    "name": "ipython",
    "version": 3
   },
   "file_extension": ".py",
   "mimetype": "text/x-python",
   "name": "python",
   "nbconvert_exporter": "python",
   "pygments_lexer": "ipython3",
   "version": "3.10.8"
  }
 },
 "nbformat": 4,
 "nbformat_minor": 5
}
